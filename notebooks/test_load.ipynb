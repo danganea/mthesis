{
 "cells": [
  {
   "cell_type": "code",
   "id": "a9e2a4de",
   "metadata": {
    "ExecuteTime": {
     "end_time": "2025-08-02T15:06:07.252568Z",
     "start_time": "2025-08-02T15:06:07.128879Z"
    }
   },
   "source": [
    "import h5py\n",
    "\n",
    "def _recursively_load(h5_obj):\n",
    "    \"\"\"\n",
    "    Recursively loads HDF5 groups and datasets into a nested dictionary.\n",
    "    \"\"\"\n",
    "    data_dict = {}\n",
    "    for key, item in h5_obj.items():\n",
    "        if isinstance(item, h5py.Dataset):\n",
    "            # Load dataset value. [()] reads the entire dataset into memory.\n",
    "            data_dict[key] = item[()]\n",
    "        elif isinstance(item, h5py.Group):\n",
    "            # If it's a group, recurse.\n",
    "            data_dict[key] = _recursively_load(item)\n",
    "    return data_dict\n",
    "\n",
    "def load_hdf5_to_dict(file_path: str):\n",
    "    \"\"\"\n",
    "    Loads an HDF5 file into a nested Python dictionary.\n",
    "\n",
    "    Args:\n",
    "        file_path (str): The path to the HDF5 file.\n",
    "\n",
    "    Returns:\n",
    "        dict: A dictionary containing the HDF5 file's data.\n",
    "    \"\"\"\n",
    "    with h5py.File(file_path, 'r') as hf:\n",
    "        return _recursively_load(hf)"
   ],
   "outputs": [],
   "execution_count": 3
  },
  {
   "metadata": {
    "ExecuteTime": {
     "end_time": "2025-08-02T15:06:49.000298Z",
     "start_time": "2025-08-02T15:06:09.239518Z"
    }
   },
   "cell_type": "code",
   "source": [
    "base_path = '../resources/test/'\n",
    "file_path = base_path + 'matrices_E1-PEchopBB1only.mat'\n",
    "\n",
    "data = load_hdf5_to_dict(file_path)\n"
   ],
   "id": "1edb4a6d",
   "outputs": [],
   "execution_count": 4
  },
  {
   "metadata": {},
   "cell_type": "code",
   "outputs": [],
   "execution_count": null,
   "source": "",
   "id": "4822811017cae7d3"
  },
  {
   "cell_type": "code",
   "execution_count": null,
   "id": "a4191523",
   "metadata": {},
   "outputs": [],
   "source": "analyze_data(['embryio1', 'emcbro2', 'embryo3'])"
  }
 ],
 "metadata": {
  "kernelspec": {
   "display_name": "emilia-thesis",
   "language": "python",
   "name": "python3"
  },
  "language_info": {
   "codemirror_mode": {
    "name": "ipython",
    "version": 3
   },
   "file_extension": ".py",
   "mimetype": "text/x-python",
   "name": "python",
   "nbconvert_exporter": "python",
   "pygments_lexer": "ipython3",
   "version": "3.13.5"
  }
 },
 "nbformat": 4,
 "nbformat_minor": 5
}
